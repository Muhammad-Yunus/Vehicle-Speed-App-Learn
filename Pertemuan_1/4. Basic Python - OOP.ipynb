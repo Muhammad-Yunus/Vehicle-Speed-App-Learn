{
 "cells": [
  {
   "cell_type": "markdown",
   "metadata": {},
   "source": [
    "# Basic Python - OOP\n",
    "\n",
    "- Function\n",
    "- Classes and Objects\n",
    "- Inheritance"
   ]
  },
  {
   "cell_type": "markdown",
   "metadata": {},
   "source": [
    "___\n",
    "### Function pada Python\n",
    "\n",
    "```\n",
    "def function_name():\n",
    "    task1\n",
    "    task2\n",
    "    \n",
    "def function_name():\n",
    "    task1\n",
    "    task2\n",
    "    return data\n",
    "```"
   ]
  },
  {
   "cell_type": "code",
   "execution_count": 7,
   "metadata": {},
   "outputs": [],
   "source": [
    "# funtion hitung nilai\n",
    "def hitung(a, b):\n",
    "    c = a + b + 3\n",
    "    return c"
   ]
  },
  {
   "cell_type": "code",
   "execution_count": 8,
   "metadata": {},
   "outputs": [
    {
     "name": "stdout",
     "output_type": "stream",
     "text": [
      "hasilnya adalah 13\n"
     ]
    }
   ],
   "source": [
    "hasil = hitung(8, 2)\n",
    "\n",
    "print(\"hasilnya adalah %d\" % hasil)"
   ]
  },
  {
   "cell_type": "markdown",
   "metadata": {},
   "source": [
    "- default value pada function & multiple return"
   ]
  },
  {
   "cell_type": "code",
   "execution_count": 13,
   "metadata": {},
   "outputs": [],
   "source": [
    "def hitung( a, b, operasi='tambah'):\n",
    "    if operasi == 'tambah':\n",
    "        return a + b\n",
    "    elif operasi == 'kali' :\n",
    "        return a * b\n",
    "    elif operasi == 'kurang' :\n",
    "        return a - b\n",
    "\n"
   ]
  },
  {
   "cell_type": "code",
   "execution_count": null,
   "metadata": {},
   "outputs": [],
   "source": [
    "hitung(2, 5)"
   ]
  },
  {
   "cell_type": "code",
   "execution_count": null,
   "metadata": {},
   "outputs": [],
   "source": [
    "hitung(2, 5, 'kurang')"
   ]
  },
  {
   "cell_type": "code",
   "execution_count": null,
   "metadata": {},
   "outputs": [],
   "source": [
    "hitung(2, 5, operasi='kali')"
   ]
  },
  {
   "cell_type": "markdown",
   "metadata": {},
   "source": [
    "___\n",
    "### Classes and Objects"
   ]
  },
  {
   "cell_type": "markdown",
   "metadata": {},
   "source": [
    "- Python merupakan *object oriented programming language (OOP)*.\n",
    "\n",
    "- Hampir semua hal yang ada pada Python merupakan `Object` yang memiliki `properties` & `method`\n",
    "\n",
    "- Class merupakan sebuah object contructor / `blueprint` untuk membuat sebuah object."
   ]
  },
  {
   "cell_type": "markdown",
   "metadata": {},
   "source": [
    "- Struktur `Class` pada python\n",
    "\n",
    "```\n",
    "class <class_name>:\n",
    "  <properties>\n",
    "  <method>\n",
    "```"
   ]
  },
  {
   "cell_type": "markdown",
   "metadata": {},
   "source": [
    "#### Create Object from Class & Access Object Proprties"
   ]
  },
  {
   "cell_type": "code",
   "execution_count": 27,
   "metadata": {},
   "outputs": [],
   "source": [
    "class MyClass:\n",
    "    x = 5\n",
    "    y = 'hello world'\n",
    "    z = [\"Indonesia\", True, 14.5]\n",
    "\n",
    "myObj = MyClass()"
   ]
  },
  {
   "cell_type": "code",
   "execution_count": null,
   "metadata": {},
   "outputs": [],
   "source": [
    "type(myObj)"
   ]
  },
  {
   "cell_type": "code",
   "execution_count": null,
   "metadata": {},
   "outputs": [],
   "source": [
    "# akses properties pada object\n",
    "\n",
    "print(myObj.x)"
   ]
  },
  {
   "cell_type": "code",
   "execution_count": null,
   "metadata": {},
   "outputs": [],
   "source": [
    "print(myObj.y)"
   ]
  },
  {
   "cell_type": "code",
   "execution_count": null,
   "metadata": {},
   "outputs": [],
   "source": [
    "print(myObj.z[-1])"
   ]
  },
  {
   "cell_type": "code",
   "execution_count": null,
   "metadata": {},
   "outputs": [],
   "source": [
    "__init__()"
   ]
  },
  {
   "cell_type": "markdown",
   "metadata": {},
   "source": [
    "### `__init__()` Function"
   ]
  },
  {
   "cell_type": "markdown",
   "metadata": {},
   "source": [
    "- Contoh Class `MyClass` diatas merupakan bentuk sederhana class pada python. \n",
    "- Untuk memahami `Class` dengan baik, kita perlu mengenal `__init__()` function pada Class.\n",
    "- `__init__()` function merupakan built-in function yang otomatis ter-create ketika membuat sebuah Class.\n",
    "- `__init__()` function akan **selalu dijalankan** ketika Class di-**inisiasi**.\n",
    "- `__init__()` function dapat digunakan untuk melakukan :\n",
    "    - Assign value ke properties pada object\n",
    "    - Melakukan operasi yang dibutuhkan ketika object akan dibuat"
   ]
  },
  {
   "cell_type": "code",
   "execution_count": 30,
   "metadata": {},
   "outputs": [],
   "source": [
    "class Person:\n",
    "    def __init__(self, name, age):\n",
    "        self.name = name  # assign value ke properties pada object\n",
    "        self.age = age    # assign value ke properties pada object"
   ]
  },
  {
   "cell_type": "code",
   "execution_count": null,
   "metadata": {},
   "outputs": [],
   "source": [
    "person1 = Person()"
   ]
  },
  {
   "cell_type": "code",
   "execution_count": 32,
   "metadata": {},
   "outputs": [],
   "source": [
    "person1 = Person(\"John\", 36)"
   ]
  },
  {
   "cell_type": "code",
   "execution_count": null,
   "metadata": {},
   "outputs": [],
   "source": [
    "print(person1.name)\n",
    "print(person1.age)"
   ]
  },
  {
   "cell_type": "markdown",
   "metadata": {},
   "source": [
    "### Object Methods\n",
    "\n",
    "- Sebah object dapat berisi `methods`. `methods` pada object merupakan `function` yang dimiliki oleh object."
   ]
  },
  {
   "cell_type": "markdown",
   "metadata": {},
   "source": [
    "- Struktur function pada python (pengingat)\n",
    "\n",
    "```\n",
    "def <function name>:\n",
    "    <task>\n",
    "    return <something>\n",
    "    ```"
   ]
  },
  {
   "cell_type": "markdown",
   "metadata": {},
   "source": [
    "- Kita akan tambahkan sebuah method pada Class `Person` diatas,"
   ]
  },
  {
   "cell_type": "code",
   "execution_count": 48,
   "metadata": {},
   "outputs": [],
   "source": [
    "class Person:\n",
    "    def __init__(self, name, age):\n",
    "        self.name = name\n",
    "        self.age = age\n",
    "\n",
    "    def myfunc(self):\n",
    "        print(\"Hello my name is \" + self.name)\n",
    "        \n",
    "    def check_age(self):\n",
    "        print(\"Age is %d\" % self.age)"
   ]
  },
  {
   "cell_type": "code",
   "execution_count": 49,
   "metadata": {},
   "outputs": [],
   "source": [
    "person1 = Person(\"Rudi\", 20)"
   ]
  },
  {
   "cell_type": "code",
   "execution_count": null,
   "metadata": {},
   "outputs": [],
   "source": [
    "person1.myfunc()"
   ]
  },
  {
   "cell_type": "code",
   "execution_count": null,
   "metadata": {},
   "outputs": [],
   "source": [
    "person1.check_age()"
   ]
  },
  {
   "cell_type": "code",
   "execution_count": 53,
   "metadata": {},
   "outputs": [],
   "source": [
    "person2 = Person(\"John\", 36, 12, 67)"
   ]
  },
  {
   "cell_type": "code",
   "execution_count": null,
   "metadata": {},
   "outputs": [],
   "source": [
    "person2.myfunc()"
   ]
  },
  {
   "cell_type": "markdown",
   "metadata": {},
   "source": [
    "### `self` Parameter"
   ]
  },
  {
   "cell_type": "markdown",
   "metadata": {},
   "source": [
    "- parameter `self` merupakan reference untuk *current instance* pada class (class itu sendiri), dan digunakan untuk mengakses variable yang dimiliki class.\n",
    "- penamaan parameter yang digunakan bisa apapun, bebas. \n",
    "- Aturanya, parameter tersebut **harus menjadi parameter input pertama** untuk tiap function/method pada class"
   ]
  },
  {
   "cell_type": "code",
   "execution_count": 63,
   "metadata": {},
   "outputs": [],
   "source": [
    "class Person:\n",
    "    def __init__(self, name, age):\n",
    "        self.name = name\n",
    "        self.age = age\n",
    "\n",
    "    def myfunc(self):\n",
    "        print(\"Hello my name is \" + self.name)\n",
    "        print(\"and my age is %d\" % self.age)\n"
   ]
  },
  {
   "cell_type": "code",
   "execution_count": 64,
   "metadata": {},
   "outputs": [],
   "source": [
    "person1 = Person(\"John\", 36)"
   ]
  },
  {
   "cell_type": "code",
   "execution_count": null,
   "metadata": {},
   "outputs": [],
   "source": [
    "person1.myfunc()"
   ]
  },
  {
   "cell_type": "markdown",
   "metadata": {},
   "source": [
    "### Delete Object"
   ]
  },
  {
   "cell_type": "code",
   "execution_count": 83,
   "metadata": {},
   "outputs": [],
   "source": [
    "del person1"
   ]
  },
  {
   "cell_type": "code",
   "execution_count": null,
   "metadata": {},
   "outputs": [],
   "source": [
    "print(person1)"
   ]
  }
 ],
 "metadata": {
  "kernelspec": {
   "display_name": "Python 3",
   "language": "python",
   "name": "python3"
  },
  "language_info": {
   "codemirror_mode": {
    "name": "ipython",
    "version": 3
   },
   "file_extension": ".py",
   "mimetype": "text/x-python",
   "name": "python",
   "nbconvert_exporter": "python",
   "pygments_lexer": "ipython3",
   "version": "3.7.9"
  }
 },
 "nbformat": 4,
 "nbformat_minor": 4
}
