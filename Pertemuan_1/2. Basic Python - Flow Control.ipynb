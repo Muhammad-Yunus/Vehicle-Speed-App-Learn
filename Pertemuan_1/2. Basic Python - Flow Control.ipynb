{
 "cells": [
  {
   "cell_type": "markdown",
   "metadata": {},
   "source": [
    "# Basic Python - Flow Control\n",
    "\n",
    "\n",
    "- If , elif, & else \n",
    "- while loops \n",
    "- for loops "
   ]
  },
  {
   "cell_type": "markdown",
   "metadata": {},
   "source": [
    "___\n",
    "### Percabangan (If, elif, else)\n",
    "\n",
    "struktur percabangan pada python :\n",
    "\n",
    "```\n",
    "if statement_1 :\n",
    "    tugas_1\n",
    "    tugas_lainya\n",
    "elif statement_2 :\n",
    "    tugas_2\n",
    "else :\n",
    "    tugas_3\n",
    "    \n",
    "if (statement){\n",
    "                task1;\n",
    "           task2;\n",
    "}\n",
    "\n",
    "```"
   ]
  },
  {
   "cell_type": "markdown",
   "metadata": {},
   "source": [
    "- Struktur If "
   ]
  },
  {
   "cell_type": "code",
   "execution_count": null,
   "metadata": {},
   "outputs": [],
   "source": [
    "# statement dari pembanding operator\n",
    "\n",
    "nilai = 35\n",
    "\n",
    "if nilai < 70:\n",
    "    print(\"Nilai dibawah KKM : %d\" % nilai)"
   ]
  },
  {
   "cell_type": "code",
   "execution_count": null,
   "metadata": {},
   "outputs": [],
   "source": [
    "# statement dari pembanding & logic operator\n",
    "\n",
    "umur = 28\n",
    "\n",
    "if umur > 25 and umur < 30:\n",
    "    print(\"Umur %d memenuhi kriteria.\" % umur)"
   ]
  },
  {
   "cell_type": "markdown",
   "metadata": {},
   "source": [
    "- Struktur if & else"
   ]
  },
  {
   "cell_type": "code",
   "execution_count": null,
   "metadata": {},
   "outputs": [],
   "source": [
    "# statement dari pembanding operator\n",
    "\n",
    "umur = 22\n",
    "\n",
    "if umur >= 18:\n",
    "    print(\"Kamu boleh membuat SIM\")\n",
    "else:\n",
    "    print(\"Kamu belum boleh membuat SIM\")"
   ]
  },
  {
   "cell_type": "markdown",
   "metadata": {},
   "source": [
    "- Struktur if , elif & else"
   ]
  },
  {
   "cell_type": "code",
   "execution_count": null,
   "metadata": {},
   "outputs": [],
   "source": [
    "suhu = 38\n",
    "\n",
    "if suhu < 25 :\n",
    "    print(\"suhu dingin\")\n",
    "elif suhu < 30 :\n",
    "    print(\"suhu hangat\")\n",
    "elif suhu < 35 :\n",
    "    print(\"suhu panas\")\n",
    "elif suhu < 40 :\n",
    "    print(\"suhu panas banget\")   \n",
    "else :\n",
    "    print(\"suhu panas banget gak ngotak\")"
   ]
  },
  {
   "cell_type": "markdown",
   "metadata": {},
   "source": [
    "___\n",
    "### Perulangan mengunakan for\n",
    "\n",
    "- perulangan pada pemrograman python hanya mengimplementasikan *collection-based iteration*, \n",
    "- sehingga sebuah perulangan bisa dilakukan jika kita memiliki **iterable** object di python\n",
    "\n",
    "```\n",
    "for <var> in <iterable>:\n",
    "    <task(s)>\n",
    "\n",
    "```\n",
    "\n",
    "- Iterable pada python adalah object dalam bentuk `string`, `list`, `tuple`, `dictionary`, `set`\n"
   ]
  },
  {
   "cell_type": "markdown",
   "metadata": {},
   "source": [
    "- contoh bentuk perulangan dari iterator `list`"
   ]
  },
  {
   "cell_type": "code",
   "execution_count": null,
   "metadata": {},
   "outputs": [],
   "source": [
    "# list string\n",
    "\n",
    "hari = [\"senin\", \"selasa\", \"rabu\", \"kamis\", \"jumat\", \"sabtu\", \"minggu\"]\n",
    "\n",
    "print(type(hari))\n",
    "\n",
    "for i in hari :\n",
    "    print (\"hari\", i)"
   ]
  },
  {
   "cell_type": "code",
   "execution_count": null,
   "metadata": {},
   "outputs": [],
   "source": [
    "# list number\n",
    "\n",
    "jari_jari = [1, 2, 3, 4, 5, 6, 7, 8]\n",
    "\n",
    "for r in jari_jari :\n",
    "    luas_lingkaran = 3.14*r**2\n",
    "    print (\"Jari-jari : %d, Luas : %.2f\" % (r, luas_lingkaran))"
   ]
  },
  {
   "cell_type": "markdown",
   "metadata": {},
   "source": [
    "___\n",
    "### Perulangan menggunakan while\n",
    "\n",
    "- struktur dasar,\n",
    "\n",
    "```\n",
    "while <condition>:\n",
    "    <do something..>\n",
    "```"
   ]
  },
  {
   "cell_type": "code",
   "execution_count": null,
   "metadata": {},
   "outputs": [],
   "source": [
    "# program while loop sederhana\n",
    "\n",
    "i = 0\n",
    "while i <= 10 :\n",
    "    print(\"loop ke-%d\" % i)\n",
    "    i +=1"
   ]
  },
  {
   "cell_type": "code",
   "execution_count": null,
   "metadata": {},
   "outputs": [],
   "source": [
    "# program while loop sederhana (loop list)\n",
    "\n",
    "hari = [\"senin\", \"selasa\", \"rabu\", \"kamis\", \"jumat\", \"sabtu\", \"minggu\"]\n",
    "\n",
    "i = 0\n",
    "while i < len(hari):\n",
    "    print(hari[i])\n",
    "    i += 1"
   ]
  }
 ],
 "metadata": {
  "kernelspec": {
   "display_name": "Python 3",
   "language": "python",
   "name": "python3"
  },
  "language_info": {
   "codemirror_mode": {
    "name": "ipython",
    "version": 3
   },
   "file_extension": ".py",
   "mimetype": "text/x-python",
   "name": "python",
   "nbconvert_exporter": "python",
   "pygments_lexer": "ipython3",
   "version": "3.7.9"
  }
 },
 "nbformat": 4,
 "nbformat_minor": 4
}
