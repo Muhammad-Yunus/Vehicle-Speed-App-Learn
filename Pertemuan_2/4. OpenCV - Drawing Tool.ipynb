{
 "cells": [
  {
   "cell_type": "code",
   "execution_count": 1,
   "metadata": {},
   "outputs": [],
   "source": [
    "import cv2\n",
    "import numpy as np"
   ]
  },
  {
   "attachments": {},
   "cell_type": "markdown",
   "metadata": {},
   "source": [
    "## Drawing Tool\n",
    "\n",
    "- Draw a **line** by using the OpenCV function `cv2.line()`\n",
    "- Draw an **ellipse** by using the OpenCV function `cv2.ellipse()`\n",
    "- Draw a **rectangle** by using the OpenCV function `cv2.rectangle()`\n",
    "- Draw a **circle** by using the OpenCV function `cv2.circle()`\n",
    "- Draw a **filled polygon** by using the OpenCV function `cv2.fillPoly()`\n",
    "- Write a **text** by using the OpenCV function `cv2.putText()`"
   ]
  },
  {
   "attachments": {},
   "cell_type": "markdown",
   "metadata": {},
   "source": [
    "#### 1 Draw Line (`cv2.line()`)\n",
    "\n",
    "- Menggunakan method `cv2.line(img, (x0,y0), (xt,yt), (B, G, R), thickness, line_type)` \n",
    "- untuk :\n",
    "    - `img` : input image\n",
    "    - `(x0, y0)` : start point (tuple)\n",
    "    - `(xt, yt)` : end point (tuple)\n",
    "    - `(B, G, R)` : line color (tuple)\n",
    "    - `thickness` : line thickness \n",
    "    - `line_type` :\n",
    "        - `cv2.FILLED` : filled line\n",
    "        - `cv2.LINE_4` : 4-connected line\n",
    "        - `cv2.LINE_8` : 8-connected line\n",
    "        - `cv2.LINE_AA` : antialiased line\n",
    "        \n",
    "<img src=\"resource/draw-line.png\" style=\"width:700\"></img>"
   ]
  },
  {
   "attachments": {},
   "cell_type": "markdown",
   "metadata": {},
   "source": [
    "- draw line"
   ]
  },
  {
   "cell_type": "code",
   "execution_count": 4,
   "metadata": {},
   "outputs": [],
   "source": [
    "img = cv2.imread(\"lena.jpg\") \n",
    "\n",
    "#  horizontal line (red), y0 = yt\n",
    "img = cv2.line(img,  # input image matrix\n",
    "         (100, 350),  # (x1, y1)\n",
    "         (300, 350),  # (x2, y2)    \n",
    "         (50,0,255),  # (B, G, R)   \n",
    "         3)           # thickness \n",
    "\n",
    "# show image\n",
    "cv2.imshow('myapp',img)\n",
    "cv2.waitKey(0) # display the window infinitely until any keypress\n",
    "cv2.destroyAllWindows()"
   ]
  },
  {
   "attachments": {},
   "cell_type": "markdown",
   "metadata": {},
   "source": [
    "#### 2 Draw Rectangle (`cv2.rectangle()`)\n",
    "\n",
    "\n",
    "- Menggunakan method `cv2.rectangle(img, (x0,y0), (xt,yt), (B, G, R), thickness, line_type)` \n",
    "- untuk :\n",
    "    - `img` : input image\n",
    "    - `(x0, y0)` : top-left-corner rectangle point (tuple)\n",
    "    - `(xt, yt)` : bottom-right-corner rectangle point (tuple)\n",
    "    - `(B, G, R)` : rectangle color (tuple)\n",
    "    - `thickness` : rectangle thickness (if negative, color will be user as fillcolor)\n",
    "    - `line_type` :\n",
    "        - `cv2.FILLED` : filled line\n",
    "        - `cv2.LINE_4` : 4-connected line\n",
    "        - `cv2.LINE_8` : 8-connected line\n",
    "        - `cv2.LINE_AA` : antialiased line\n",
    "        \n",
    "<img src=\"resource/draw-box.png\" style=\"width:700\"></img>"
   ]
  },
  {
   "attachments": {},
   "cell_type": "markdown",
   "metadata": {},
   "source": [
    "- draw rectangle"
   ]
  },
  {
   "cell_type": "code",
   "execution_count": 5,
   "metadata": {},
   "outputs": [],
   "source": [
    "img = cv2.imread(\"lena.jpg\") \n",
    "\n",
    "cv2.rectangle(img,              # input image\n",
    "              (15,25),          # (x1, y1)\n",
    "              (200,150),        # (x2, y2)\n",
    "              (255,255,255),    # (B, G, R)\n",
    "              -1)                # thickness\n",
    "\n",
    "# show image\n",
    "cv2.imshow('myapp',img)\n",
    "cv2.waitKey(0) # display the window infinitely until any keypress\n",
    "cv2.destroyAllWindows()"
   ]
  },
  {
   "attachments": {},
   "cell_type": "markdown",
   "metadata": {},
   "source": [
    "#### 3 Write Text (`cv2.putText()`)\n",
    "\n",
    "\n",
    "- Menggunakan method `cv2.putText(img, text, (x,y), font_type, font_scale, (B, G, R), thickness, line_type)` \n",
    "- untuk :\n",
    "    - `img` : input image\n",
    "    - `text` : string to write in image \n",
    "    - `(x, y)` : start-left position of text (tuple)\n",
    "    - `font_type` : \n",
    "        - `cv2.FONT_HERSHEY_SIMPLEX` : size sans-serif font\n",
    "        - `cv2.FONT_HERSHEY_PLAIN` : small size sans-serif font\n",
    "        - `cv2.FONT_HERSHEY_DUPLEX` : normal size sans-serif font (more complex than FONT_HERSHEY_SIMPLEX)\n",
    "        - `cv2.FONT_HERSHEY_COMPLEX` : normal size serif font\n",
    "        - `cv2.FONT_HERSHEY_TRIPLEX` : normal size serif font (more complex than FONT_HERSHEY_COMPLEX)\n",
    "        - `cv2.FONT_HERSHEY_COMPLEX_SMALL` : smaller version of FONT_HERSHEY_COMPLEX\n",
    "        - `cv2.FONT_HERSHEY_SCRIPT_SIMPLEX` : hand-writing style font\n",
    "        - `cv2.FONT_HERSHEY_SCRIPT_COMPLEX` : more complex variant of FONT_HERSHEY_SCRIPT_SIMPLEX\n",
    "        - `cv2.FONT_ITALIC` : flag for italic font\n",
    "    - `(B, G, R)` : circle color (tuple)\n",
    "    - `thickness` : circle thickness  (if negative, color will be user as fillcolor)\n",
    "    - `line_type` :\n",
    "        - `cv2.FILLED` : filled line\n",
    "        - `cv2.LINE_4` : 4-connected line\n",
    "        - `cv2.LINE_8` : 8-connected line\n",
    "        - `cv2.LINE_AA` : antialiased line\n",
    "        \n",
    "<img src=\"resource/draw-text.png\" style=\"width:700\"></img>"
   ]
  },
  {
   "attachments": {},
   "cell_type": "markdown",
   "metadata": {},
   "source": [
    "- draw text"
   ]
  },
  {
   "cell_type": "code",
   "execution_count": 7,
   "metadata": {},
   "outputs": [],
   "source": [
    "img = cv2.imread(\"lena.jpg\") \n",
    "\n",
    "cv2.putText(img, \n",
    "            \"Hello world\", \n",
    "            (50, 50),                   \n",
    "            cv2.FONT_HERSHEY_SIMPLEX,     \n",
    "            1.5,                          \n",
    "            (0, 0, 255),                \n",
    "            1,\n",
    "            cv2.LINE_AA) \n",
    "\n",
    "# show image\n",
    "cv2.imshow('myapp',img)\n",
    "cv2.waitKey(0) # display the window infinitely until any keypress\n",
    "cv2.destroyAllWindows()"
   ]
  },
  {
   "attachments": {},
   "cell_type": "markdown",
   "metadata": {},
   "source": [
    "- Combine draw Rectangle and Text\n",
    "    - we will use `draw_ped()` function inside `utils.py` to simplify implementation \n",
    "    - import the function using `import <function> from <filename>`"
   ]
  },
  {
   "cell_type": "code",
   "execution_count": null,
   "metadata": {},
   "outputs": [],
   "source": [
    "import utils\n",
    "\n",
    "img = cv2.imread('lena.jpg')\n",
    "\n",
    "# draw_ped(image, label, x0, y0, x1, y1)\n",
    "img = utils.draw_ped(img, \"name : lena.jpg\", 50, 50, 300, 300)\n",
    "\n",
    "# show image\n",
    "cv2.imshow('myapp',img)\n",
    "cv2.waitKey(0) # display the window infinitely until any keypress\n",
    "cv2.destroyAllWindows()"
   ]
  },
  {
   "cell_type": "code",
   "execution_count": 10,
   "metadata": {},
   "outputs": [],
   "source": []
  }
 ],
 "metadata": {
  "kernelspec": {
   "display_name": "Python 3",
   "language": "python",
   "name": "python3"
  },
  "language_info": {
   "codemirror_mode": {
    "name": "ipython",
    "version": 3
   },
   "file_extension": ".py",
   "mimetype": "text/x-python",
   "name": "python",
   "nbconvert_exporter": "python",
   "pygments_lexer": "ipython3",
   "version": "3.9.2"
  },
  "orig_nbformat": 4
 },
 "nbformat": 4,
 "nbformat_minor": 2
}
