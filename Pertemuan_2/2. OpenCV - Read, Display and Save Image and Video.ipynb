{
 "cells": [
  {
   "attachments": {},
   "cell_type": "markdown",
   "metadata": {},
   "source": [
    "___\n",
    "# OpenCV\n",
    "<img src=\"resource/opencv.png\" style=\"width: 100px; background-color: white; padding:15px 0 15px 15px; border-radius:8px\"></img>\n",
    "\n",
    "*Open Source Computer Vision Library* | an open source computer vision and machine learning software library."
   ]
  },
  {
   "attachments": {},
   "cell_type": "markdown",
   "metadata": {},
   "source": [
    "### Citra Digital\n",
    "\n",
    "- Citra digital (umumnya) terdiri dari **3 layer** (channel) warna **R, G & B**.\n",
    "- Tiap layer memiliki **tinggi** dan **lebar** citra yang sama.\n",
    "- Tiap titik pada layer memiliki nilai **8bit** (0 - 255) yag di sebut pixel. "
   ]
  },
  {
   "attachments": {},
   "cell_type": "markdown",
   "metadata": {},
   "source": [
    "<img src=\"resource/citradigital.png\" style=\"width: 500px; background-color:white; padding:10px\"></img>"
   ]
  },
  {
   "attachments": {},
   "cell_type": "markdown",
   "metadata": {},
   "source": [
    "- Read and Show Image"
   ]
  },
  {
   "cell_type": "code",
   "execution_count": 1,
   "metadata": {},
   "outputs": [],
   "source": [
    "import cv2\n",
    "import numpy as np"
   ]
  },
  {
   "cell_type": "code",
   "execution_count": 2,
   "metadata": {},
   "outputs": [
    {
     "data": {
      "text/plain": [
       "'4.6.0'"
      ]
     },
     "execution_count": 2,
     "metadata": {},
     "output_type": "execute_result"
    }
   ],
   "source": [
    "cv2.__version__"
   ]
  },
  {
   "cell_type": "code",
   "execution_count": 2,
   "metadata": {},
   "outputs": [],
   "source": [
    "img = cv2.imread(\"lena.jpg\") # read image from file `lena.jpg`"
   ]
  },
  {
   "cell_type": "code",
   "execution_count": null,
   "metadata": {},
   "outputs": [],
   "source": [
    "type(img)"
   ]
  },
  {
   "attachments": {},
   "cell_type": "markdown",
   "metadata": {},
   "source": [
    "- OpenCV Image is Numpy Array"
   ]
  },
  {
   "cell_type": "code",
   "execution_count": 3,
   "metadata": {},
   "outputs": [
    {
     "data": {
      "text/plain": [
       "(344, 354, 3)"
      ]
     },
     "execution_count": 3,
     "metadata": {},
     "output_type": "execute_result"
    }
   ],
   "source": [
    "img.shape"
   ]
  },
  {
   "cell_type": "code",
   "execution_count": null,
   "metadata": {},
   "outputs": [],
   "source": [
    "h, w, c = img.shape"
   ]
  },
  {
   "attachments": {},
   "cell_type": "markdown",
   "metadata": {},
   "source": [
    "- Access Image Channel\n",
    "\n",
    "![](resource/image_frame.png)"
   ]
  },
  {
   "cell_type": "code",
   "execution_count": null,
   "metadata": {},
   "outputs": [],
   "source": [
    "img[:, :, 0].shape # layer 0 (Blue)"
   ]
  },
  {
   "cell_type": "code",
   "execution_count": null,
   "metadata": {},
   "outputs": [],
   "source": [
    "img[:, :, 1].shape # layer 1 (Green)"
   ]
  },
  {
   "cell_type": "code",
   "execution_count": null,
   "metadata": {},
   "outputs": [],
   "source": [
    "img[:, :, 2].shape # layer 2 (Red)"
   ]
  },
  {
   "cell_type": "code",
   "execution_count": null,
   "metadata": {},
   "outputs": [],
   "source": [
    "# show image\n",
    "cv2.imshow('myapp',img)\n",
    "cv2.waitKey(0) # display the window infinitely until any keypress\n",
    "cv2.destroyAllWindows()"
   ]
  },
  {
   "attachments": {},
   "cell_type": "markdown",
   "metadata": {},
   "source": [
    "- Save Image "
   ]
  },
  {
   "cell_type": "code",
   "execution_count": null,
   "metadata": {},
   "outputs": [],
   "source": [
    "# save image\n",
    "cv2.imwrite('saved_lena.jpg', img)"
   ]
  },
  {
   "attachments": {},
   "cell_type": "markdown",
   "metadata": {},
   "source": [
    "- Read & Play Video"
   ]
  },
  {
   "cell_type": "code",
   "execution_count": 18,
   "metadata": {},
   "outputs": [],
   "source": [
    "# load video source\n",
    "cap = cv2.VideoCapture('video.mp4')\n",
    "           \n",
    "# iterate for each frame in video\n",
    "while cap.isOpened():\n",
    "    \n",
    "    # get image on each frame\n",
    "    ret, frame = cap.read()\n",
    "    if not ret:\n",
    "        break\n",
    "\n",
    "    cv2.imshow('Frame',frame)\n",
    "\n",
    "    # wait 25ms per frame and close using 'q' \n",
    "    if cv2.waitKey(25) == ord('q'):\n",
    "          break\n",
    "\n",
    "cap.release()\n",
    "cv2.destroyAllWindows()"
   ]
  },
  {
   "attachments": {},
   "cell_type": "markdown",
   "metadata": {},
   "source": [
    "- Capture & Save Photo \n",
    "    - `0` in `cv2.VideoCapture(0)` is camera index, if you have two camera attached into Raspberry Pi, the next camera index is `1`"
   ]
  },
  {
   "cell_type": "code",
   "execution_count": 6,
   "metadata": {},
   "outputs": [],
   "source": [
    "cap = cv2.VideoCapture(0)\n",
    "ret, frame = cap.read()\n",
    "\n",
    "if ret :\n",
    "    cv2.imwrite(\"my_photo.jpg\", frame)\n",
    "else :\n",
    "    print(\"can't save photo\")\n",
    "    \n",
    "cap.release()"
   ]
  },
  {
   "attachments": {},
   "cell_type": "markdown",
   "metadata": {},
   "source": [
    "- Capture & Play Video"
   ]
  },
  {
   "cell_type": "code",
   "execution_count": 3,
   "metadata": {},
   "outputs": [],
   "source": [
    "# load video\n",
    "cap = cv2.VideoCapture(0)\n",
    "           \n",
    "# iterate for each frame in video\n",
    "while cap.isOpened():\n",
    "    \n",
    "    # get image on each frame\n",
    "    ret, frame = cap.read()\n",
    "    if not ret:\n",
    "        break\n",
    "\n",
    "    cv2.imshow('Frame',frame)\n",
    "\n",
    "    # wait 25ms per frame and close using 'q' \n",
    "    if cv2.waitKey(25) == ord('q'):\n",
    "          break\n",
    "\n",
    "\n",
    "cap.release()\n",
    "cv2.destroyAllWindows()"
   ]
  },
  {
   "attachments": {},
   "cell_type": "markdown",
   "metadata": {},
   "source": [
    "- Capture Video steam from IP Camera\n",
    "    - Sample RTSP URL : \n",
    "        - Akses Tanjung Priok - `ATP GT SEMPER I` : [https://cctv.hk-opt.com/LiveApp/streams/6bHKUccztd711681845528918.m3u8](https://cctv.hk-opt.com/LiveApp/streams/6bHKUccztd711681845528918.m3u8)"
   ]
  },
  {
   "cell_type": "code",
   "execution_count": 5,
   "metadata": {},
   "outputs": [],
   "source": [
    "# load video stream by RTSP URL or MJPEG Stream URL of CCTV Camera\n",
    "cap = cv2.VideoCapture(\"http://119.2.50.116:89/mjpg/video.mjpg?COUNTER\")\n",
    "           \n",
    "# iterate for each frame in video\n",
    "while cap.isOpened():\n",
    "    \n",
    "    # get image on each frame\n",
    "    ret, frame = cap.read()\n",
    "    if not ret:\n",
    "        break\n",
    "\n",
    "    cv2.imshow('Frame',frame)\n",
    "\n",
    "    # wait 25ms per frame and close using 'q' \n",
    "    if cv2.waitKey(25) == ord('q'):\n",
    "          break\n",
    "\n",
    "\n",
    "cap.release()\n",
    "cv2.destroyAllWindows()"
   ]
  },
  {
   "cell_type": "code",
   "execution_count": 7,
   "metadata": {},
   "outputs": [
    {
     "name": "stdout",
     "output_type": "stream",
     "text": [
      "\n",
      "General configuration for OpenCV 4.6.0 =====================================\n",
      "  Version control:               unknown\n",
      "\n",
      "  Extra modules:\n",
      "    Location (extra):            C:/b/abs_74oeeuevib/croots/recipe/opencv-suite_1664548340488/work/opencv_contrib-4.6.0/modules\n",
      "    Version control (extra):     unknown\n",
      "\n",
      "  Platform:\n",
      "    Timestamp:                   2022-09-30T17:34:21Z\n",
      "    Host:                        Windows 10.0.17763 AMD64\n",
      "    CMake:                       3.22.1\n",
      "    CMake generator:             Ninja\n",
      "    CMake build tool:            C:/b/abs_74oeeuevib/croots/recipe/opencv-suite_1664548340488/_build_env/Library/bin/ninja.exe\n",
      "    MSVC:                        1916\n",
      "    Configuration:               Release\n",
      "\n",
      "  CPU/HW features:\n",
      "    Baseline:                    SSE SSE2 SSE3\n",
      "      requested:                 SSE3\n",
      "    Dispatched code generation:  SSE4_1 SSE4_2 FP16 AVX AVX2 AVX512_SKX\n",
      "      requested:                 SSE4_1 SSE4_2 AVX FP16 AVX2 AVX512_SKX\n",
      "      SSE4_1 (16 files):         + SSSE3 SSE4_1\n",
      "      SSE4_2 (1 files):          + SSSE3 SSE4_1 POPCNT SSE4_2\n",
      "      FP16 (0 files):            + SSSE3 SSE4_1 POPCNT SSE4_2 FP16 AVX\n",
      "      AVX (4 files):             + SSSE3 SSE4_1 POPCNT SSE4_2 AVX\n",
      "      AVX2 (31 files):           + SSSE3 SSE4_1 POPCNT SSE4_2 FP16 FMA3 AVX AVX2\n",
      "      AVX512_SKX (5 files):      + SSSE3 SSE4_1 POPCNT SSE4_2 FP16 FMA3 AVX AVX2 AVX_512F AVX512_COMMON AVX512_SKX\n",
      "\n",
      "  C/C++:\n",
      "    Built as dynamic libs?:      YES\n",
      "    C++ standard:                11\n",
      "    C++ Compiler:                C:/Program Files (x86)/Microsoft Visual Studio/2017/BuildTools/VC/Tools/MSVC/14.16.27023/bin/Hostx64/x64/cl.exe  (ver 19.16.27048.0)\n",
      "    C++ flags (Release):         /DWIN32 /D_WINDOWS /W4 /GR  /D _CRT_SECURE_NO_DEPRECATE /D _CRT_NONSTDC_NO_DEPRECATE /D _SCL_SECURE_NO_WARNINGS /Gy /bigobj /Oi  /fp:precise /FS     /EHa /wd4127 /wd4251 /wd4324 /wd4275 /wd4512 /wd4589  /MD /O2 /Ob2 /DNDEBUG \n",
      "    C++ flags (Debug):           /DWIN32 /D_WINDOWS /W4 /GR  /D _CRT_SECURE_NO_DEPRECATE /D _CRT_NONSTDC_NO_DEPRECATE /D _SCL_SECURE_NO_WARNINGS /Gy /bigobj /Oi  /fp:precise /FS     /EHa /wd4127 /wd4251 /wd4324 /wd4275 /wd4512 /wd4589  /MDd /Zi /Ob0 /Od /RTC1 \n",
      "    C Compiler:                  C:/Program Files (x86)/Microsoft Visual Studio/2017/BuildTools/VC/Tools/MSVC/14.16.27023/bin/Hostx64/x64/cl.exe\n",
      "    C flags (Release):           /DWIN32 /D_WINDOWS /W3  /D _CRT_SECURE_NO_DEPRECATE /D _CRT_NONSTDC_NO_DEPRECATE /D _SCL_SECURE_NO_WARNINGS /Gy /bigobj /Oi  /fp:precise /FS       /MD /O2 /Ob2 /DNDEBUG \n",
      "    C flags (Debug):             /DWIN32 /D_WINDOWS /W3  /D _CRT_SECURE_NO_DEPRECATE /D _CRT_NONSTDC_NO_DEPRECATE /D _SCL_SECURE_NO_WARNINGS /Gy /bigobj /Oi  /fp:precise /FS     /MDd /Zi /Ob0 /Od /RTC1 \n",
      "    Linker flags (Release):      /machine:x64  /INCREMENTAL:NO \n",
      "    Linker flags (Debug):        /machine:x64  /debug /INCREMENTAL \n",
      "    ccache:                      NO\n",
      "    Precompiled headers:         NO\n",
      "    Extra dependencies:\n",
      "    3rdparty dependencies:\n",
      "\n",
      "  OpenCV modules:\n",
      "    To be built:                 alphamat aruco barcode bgsegm calib3d ccalib core cvv datasets dnn dnn_objdetect dnn_superres dpm face features2d flann fuzzy gapi hdf hfs highgui img_hash imgcodecs imgproc intensity_transform line_descriptor mcc ml objdetect optflow phase_unwrapping photo plot python3 quality rapid reg rgbd saliency shape stereo stitching structured_light superres surface_matching text tracking video videoio videostab wechat_qrcode xfeatures2d ximgproc xobjdetect xphoto\n",
      "    Disabled:                    bioinspired world\n",
      "    Disabled by dependency:      -\n",
      "    Unavailable:                 cudaarithm cudabgsegm cudacodec cudafeatures2d cudafilters cudaimgproc cudalegacy cudaobjdetect cudaoptflow cudastereo cudawarping cudev freetype java julia matlab ovis python2 sfm ts viz\n",
      "    Applications:                apps\n",
      "    Documentation:               NO\n",
      "    Non-free algorithms:         NO\n",
      "\n",
      "  Windows RT support:            NO\n",
      "\n",
      "  GUI:                           QT5\n",
      "    QT:                          YES (ver 5.15.2 )\n",
      "      QT OpenGL support:         NO\n",
      "\n",
      "  Media I/O: \n",
      "    ZLib:                        C:/b/abs_74oeeuevib/croots/recipe/opencv-suite_1664548340488/_h_env/Library/lib/z.lib (ver 1.2.12)\n",
      "    JPEG:                        C:/b/abs_74oeeuevib/croots/recipe/opencv-suite_1664548340488/_h_env/Library/lib/jpeg.lib (ver 90)\n",
      "    WEBP:                        C:/b/abs_74oeeuevib/croots/recipe/opencv-suite_1664548340488/_h_env/Library/lib/libwebp.lib (ver encoder: 0x020f)\n",
      "    PNG:                         C:/b/abs_74oeeuevib/croots/recipe/opencv-suite_1664548340488/_h_env/Library/lib/libpng.lib (ver 1.6.37)\n",
      "    TIFF:                        C:/b/abs_74oeeuevib/croots/recipe/opencv-suite_1664548340488/_h_env/Library/lib/tiff.lib (ver 42 / 4.1.0)\n",
      "    OpenEXR:                     build (ver 2.3.0)\n",
      "    HDR:                         YES\n",
      "    SUNRASTER:                   YES\n",
      "    PXM:                         YES\n",
      "    PFM:                         YES\n",
      "\n",
      "  Video I/O:\n",
      "    GStreamer:                   YES (1.18.5)\n",
      "    DirectShow:                  YES\n",
      "    Media Foundation:            YES\n",
      "      DXVA:                      NO\n",
      "\n",
      "  Parallel framework:            Concurrency\n",
      "\n",
      "  Trace:                         YES (with Intel ITT)\n",
      "\n",
      "  Other third-party libraries:\n",
      "    Intel IPP:                   2020.0.0 Gold [2020.0.0]\n",
      "           at:                   C:/b/abs_74oeeuevib/croots/recipe/opencv-suite_1664548340488/work/build/3rdparty/ippicv/ippicv_win/icv\n",
      "    Intel IPP IW:                NO\n",
      "    Eigen:                       YES (ver 3.3.7)\n",
      "    Custom HAL:                  NO\n",
      "    Protobuf:                    C:/b/abs_74oeeuevib/croots/recipe/opencv-suite_1664548340488/_h_env/Library/lib/libprotobuf.lib (3.20.1)\n",
      "\n",
      "  Python 3:\n",
      "    Interpreter:                 C:/b/abs_74oeeuevib/croots/recipe/opencv-suite_1664548340488/_h_env/python.exe (ver 3.10.4)\n",
      "    Libraries:                   C:/b/abs_74oeeuevib/croots/recipe/opencv-suite_1664548340488/_h_env/libs/python310.lib (ver 3.10.4)\n",
      "    numpy:                       C:/b/abs_74oeeuevib/croots/recipe/opencv-suite_1664548340488/_h_env/lib/site-packages/numpy/core/include (ver 1.21.5)\n",
      "    install path:                C:\\b\\abs_74oeeuevib\\croots\\recipe\\opencv-suite_1664548340488\\_h_env\\Lib\\site-packages\n",
      "\n",
      "  Python (for build):            C:\\b\\abs_74oeeuevib\\croots\\recipe\\opencv-suite_1664548340488\\_h_env/python.exe\n",
      "\n",
      "  Install to:                    C:/b/abs_74oeeuevib/croots/recipe/opencv-suite_1664548340488/_h_env/Library\n",
      "-----------------------------------------------------------------\n",
      "\n",
      "\n"
     ]
    }
   ],
   "source": [
    "print(cv2.getBuildInformation())"
   ]
  }
 ],
 "metadata": {
  "kernelspec": {
   "display_name": "Python 3",
   "language": "python",
   "name": "python3"
  },
  "language_info": {
   "codemirror_mode": {
    "name": "ipython",
    "version": 3
   },
   "file_extension": ".py",
   "mimetype": "text/x-python",
   "name": "python",
   "nbconvert_exporter": "python",
   "pygments_lexer": "ipython3",
   "version": "3.10.11"
  },
  "orig_nbformat": 4
 },
 "nbformat": 4,
 "nbformat_minor": 2
}
