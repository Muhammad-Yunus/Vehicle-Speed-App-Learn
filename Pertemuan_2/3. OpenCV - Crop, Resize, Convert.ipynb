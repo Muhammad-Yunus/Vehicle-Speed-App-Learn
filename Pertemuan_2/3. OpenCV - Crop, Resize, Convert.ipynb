{
 "cells": [
  {
   "attachments": {},
   "cell_type": "markdown",
   "metadata": {},
   "source": [
    "- Image Crop \n",
    "- Image Resize \n",
    "- Image Color Conversion"
   ]
  },
  {
   "cell_type": "code",
   "execution_count": null,
   "metadata": {},
   "outputs": [],
   "source": [
    "import os\n",
    "import cv2 \n",
    "import numpy as np"
   ]
  },
  {
   "cell_type": "markdown",
   "metadata": {},
   "source": [
    "## 1. Image Crop"
   ]
  },
  {
   "attachments": {},
   "cell_type": "markdown",
   "metadata": {},
   "source": [
    "### 1.1 Basic crop\n",
    "- crop image pada OpenCV dilakukan dengan menggunakan *numpy slicing*\n",
    "- dengan notasi `image_array[y_min:y_max , x_min:x_max]`\n",
    "- dimana `y_min`, `y_max`, `x_min` dan `x_max` merupakan titik pixel batas area yang ingin di crop.\n",
    "\n",
    "<img src=\"resource/crop_img.png\" style=\"width: 400px;\"></img> <br><br>\n",
    "<img src=\"resource/crop_image_2.png\" style=\"width: 350px;background-color:white\"></img>"
   ]
  },
  {
   "cell_type": "code",
   "execution_count": null,
   "metadata": {},
   "outputs": [],
   "source": [
    "img = cv2.imread('Tomat.jpg')\n",
    "\n",
    "# show image\n",
    "cv2.imshow('Display',img)\n",
    "cv2.waitKey(0) # display the window infinitely until any keypress\n",
    "cv2.destroyAllWindows()"
   ]
  },
  {
   "cell_type": "code",
   "execution_count": null,
   "metadata": {},
   "outputs": [],
   "source": [
    "img.shape"
   ]
  },
  {
   "cell_type": "markdown",
   "metadata": {},
   "source": [
    "- crop dengan index positif"
   ]
  },
  {
   "cell_type": "code",
   "execution_count": null,
   "metadata": {},
   "outputs": [],
   "source": [
    "# crop image[y_min:y_max, x_min:x_max]\n",
    "\n",
    "img_crop = img[200:400, 200:400] \n",
    "\n",
    "# show image\n",
    "cv2.imshow('Display',img)\n",
    "cv2.waitKey(0) # display the window infinitely until any keypress\n",
    "cv2.destroyAllWindows()"
   ]
  },
  {
   "cell_type": "code",
   "execution_count": null,
   "metadata": {},
   "outputs": [],
   "source": [
    "img_crop.shape"
   ]
  },
  {
   "cell_type": "markdown",
   "metadata": {},
   "source": [
    "- crop dengan index negatif"
   ]
  },
  {
   "cell_type": "code",
   "execution_count": null,
   "metadata": {},
   "outputs": [],
   "source": [
    "# crop image[y_min:y_max , x_min:x_max]\n",
    "\n",
    "img_crop = img[50:-50, 50:-50] \n",
    "\n",
    "# show image\n",
    "cv2.imshow('Display',img)\n",
    "cv2.waitKey(0) # display the window infinitely until any keypress\n",
    "cv2.destroyAllWindows()"
   ]
  },
  {
   "cell_type": "code",
   "execution_count": null,
   "metadata": {},
   "outputs": [],
   "source": [
    "img_crop.shape"
   ]
  },
  {
   "cell_type": "markdown",
   "metadata": {},
   "source": [
    "___"
   ]
  },
  {
   "cell_type": "markdown",
   "metadata": {},
   "source": [
    "## 2. Image Resize"
   ]
  },
  {
   "cell_type": "markdown",
   "metadata": {},
   "source": [
    "![](resource/resize.jpg)\n",
    "- untuk melakukan resize image pada OpenCV diprkenalkan beberapa method berikut :\n",
    "    - `cv2.resize(img, (w_new, h_new))` : resize `img` ke ukuran `w_new` x `h_new`"
   ]
  },
  {
   "cell_type": "code",
   "execution_count": null,
   "metadata": {},
   "outputs": [],
   "source": [
    "img = cv2.imread('Tomat.jpg')\n",
    "\n",
    "# resize image (new_widht, new_height)\n",
    "img_resize = cv2.resize(img, (320, 240))  \n",
    "\n",
    "# show image\n",
    "cv2.imshow('Display',img)\n",
    "cv2.waitKey(0) # display the window infinitely until any keypress\n",
    "cv2.destroyAllWindows()"
   ]
  },
  {
   "cell_type": "markdown",
   "metadata": {},
   "source": [
    "- resize dengan menggunakan rasio ukuran original (`fx`, `fy`)"
   ]
  },
  {
   "cell_type": "code",
   "execution_count": null,
   "metadata": {},
   "outputs": [],
   "source": [
    "img = cv2.imread('Tomat.jpg')\n",
    "\n",
    "# resize image (new_widht, new_height)\n",
    "img_resize = cv2.resize(img, (0,0), fx=0.5, fy=0.5)  \n",
    "\n",
    "# show image\n",
    "cv2.imshow('Display',img)\n",
    "cv2.waitKey(0) # display the window infinitely until any keypress\n",
    "cv2.destroyAllWindows()"
   ]
  },
  {
   "cell_type": "markdown",
   "metadata": {},
   "source": [
    "___"
   ]
  },
  {
   "attachments": {},
   "cell_type": "markdown",
   "metadata": {},
   "source": [
    "## 3. Image Color Conversion\n",
    "\n",
    "![](resource/gray_image.png)\n",
    "- Diperkenalkan method `cv2.cvtColor()` untuk color conversion pada OpenCV\n",
    "- Berikut adalah parameter convert color  :\n",
    "    - convert BGR <--> GRAY <br>\n",
    "    `cv2.COLOR_BGR2GRAY`"
   ]
  },
  {
   "cell_type": "code",
   "execution_count": null,
   "metadata": {},
   "outputs": [],
   "source": [
    "# convert BGR to Gray\n",
    "img = cv2.imread(\"Tomat.jpg\")\n",
    "\n",
    "img_gray = cv2.cvtColor(img, cv2.COLOR_BGR2GRAY)\n",
    "\n",
    "# show image\n",
    "cv2.imshow('Display',img)\n",
    "cv2.waitKey(0) # display the window infinitely until any keypress\n",
    "cv2.destroyAllWindows()"
   ]
  },
  {
   "cell_type": "markdown",
   "metadata": {},
   "source": [
    "- grayscale image shape"
   ]
  },
  {
   "cell_type": "code",
   "execution_count": null,
   "metadata": {},
   "outputs": [],
   "source": [
    "img_gray.shape"
   ]
  }
 ],
 "metadata": {
  "kernelspec": {
   "display_name": "Python [conda env:opencv_env]",
   "language": "python",
   "name": "conda-env-opencv_env-py"
  },
  "language_info": {
   "codemirror_mode": {
    "name": "ipython",
    "version": 3
   },
   "file_extension": ".py",
   "mimetype": "text/x-python",
   "name": "python",
   "nbconvert_exporter": "python",
   "pygments_lexer": "ipython3",
   "version": "3.8.6"
  }
 },
 "nbformat": 4,
 "nbformat_minor": 4
}
